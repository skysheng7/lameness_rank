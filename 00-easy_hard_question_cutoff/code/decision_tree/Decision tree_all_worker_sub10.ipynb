{
 "cells": [
  {
   "cell_type": "markdown",
   "metadata": {
    "collapsed": true
   },
   "source": [
    "### Import data set and get X and y matrix for test & train"
   ]
  },
  {
   "cell_type": "code",
   "execution_count": null,
   "metadata": {
    "pycharm": {
     "is_executing": true
    }
   },
   "outputs": [],
   "source": [
    "import bz2\n",
    "import zipfile\n",
    "import pandas as pd\n",
    "import os\n",
    "import numpy as np\n",
    "from sklearn.model_selection import train_test_split\n",
    "from sklearn.tree import DecisionTreeClassifier\n",
    "from sklearn.metrics import classification_report\n",
    "from sklearn.metrics import accuracy_score\n",
    "from sklearn.metrics import f1_score\n",
    "\n",
    "# import data\n",
    "#df = pd.read_csv(\"..\\\\data\\\\all_worker_sub10.csv\")\n",
    "df = pd.read_csv(\"00-easy_hard_question_cutoff/data/all_worker_sub10.csv\") #mac\n",
    "# Keep only the columns with certain names\n",
    "columns_to_keep = ['Median', 'direction_pct', 'question_type']\n",
    "#columns_to_keep = ['Mean', 'Median', 'Mode', 'SD', 'direction_pct','complete_time_median', 'complete_time_sd', 'question_type']\n",
    "df2 = df.loc[:, columns_to_keep]\n",
    "\n",
    "# Separate features and target variable\n",
    "X = df2.drop('question_type', axis=1)  # Features (all columns except \"question_type\")\n",
    "y = df2['question_type']               # Target variable (\"question_type\")\n",
    "\n",
    "# Create a new DataFrame to store the percentage of \"hard\" and \"easy\" rows\n",
    "y_counts = pd.DataFrame(y.value_counts(normalize=True))\n",
    "y_counts.columns = ['Percentage']\n",
    "\n",
    "# Split the dataset into training and test sets\n",
    "X_train, X_test, y_train, y_test = train_test_split(X, y, test_size=0.3, random_state=42)\n"
   ]
  },
  {
   "cell_type": "code",
   "execution_count": 14,
   "metadata": {
    "collapsed": false
   },
   "outputs": [],
   "source": [
    "# this is a test"
   ]
  },
  {
   "cell_type": "code",
   "execution_count": 1,
   "metadata": {
    "collapsed": false
   },
   "outputs": [
    {
     "ename": "NameError",
     "evalue": "name 'X_train' is not defined",
     "output_type": "error",
     "traceback": [
      "\u001b[0;31m---------------------------------------------------------------------------\u001b[0m",
      "\u001b[0;31mNameError\u001b[0m                                 Traceback (most recent call last)",
      "Cell \u001b[0;32mIn[1], line 1\u001b[0m\n\u001b[0;32m----> 1\u001b[0m \u001b[43mX_train\u001b[49m\n",
      "\u001b[0;31mNameError\u001b[0m: name 'X_train' is not defined"
     ]
    }
   ],
   "source": [
    "X_train"
   ]
  },
  {
   "cell_type": "markdown",
   "metadata": {},
   "source": [
    "### fit a decision tree"
   ]
  },
  {
   "cell_type": "code",
   "execution_count": 15,
   "metadata": {},
   "outputs": [
    {
     "name": "stdout",
     "output_type": "stream",
     "text": [
      "              precision    recall  f1-score   support\n",
      "\n",
      "        easy       0.74      0.68      0.71        34\n",
      "        hard       0.78      0.83      0.80        46\n",
      "\n",
      "    accuracy                           0.76        80\n",
      "   macro avg       0.76      0.75      0.75        80\n",
      "weighted avg       0.76      0.76      0.76        80\n",
      "\n"
     ]
    }
   ],
   "source": [
    "\n",
    "# Train a decision tree model\n",
    "clf = DecisionTreeClassifier(random_state=42, max_depth = 3)\n",
    "clf.fit(X_train, y_train)\n",
    "\n",
    "# Predict the class labels for the test set\n",
    "y_pred = clf.predict(X_test)\n",
    "\n",
    "# Compute the classification report\n",
    "report = classification_report(y_test, y_pred)\n",
    "\n",
    "# Print the classification report\n",
    "print(report)"
   ]
  },
  {
   "cell_type": "code",
   "execution_count": 16,
   "metadata": {},
   "outputs": [
    {
     "name": "stdout",
     "output_type": "stream",
     "text": [
      "|--- direction_pct <= 75.00\n",
      "|   |--- direction_pct <= 55.00\n",
      "|   |   |--- Median <= 0.25\n",
      "|   |   |   |--- class: hard\n",
      "|   |   |--- Median >  0.25\n",
      "|   |   |   |--- class: hard\n",
      "|   |--- direction_pct >  55.00\n",
      "|   |   |--- Median <= 1.50\n",
      "|   |   |   |--- class: hard\n",
      "|   |   |--- Median >  1.50\n",
      "|   |   |   |--- class: easy\n",
      "|--- direction_pct >  75.00\n",
      "|   |--- Median <= -2.75\n",
      "|   |   |--- class: easy\n",
      "|   |--- Median >  -2.75\n",
      "|   |   |--- Median <= 2.50\n",
      "|   |   |   |--- class: easy\n",
      "|   |   |--- Median >  2.50\n",
      "|   |   |   |--- class: easy\n",
      "\n"
     ]
    }
   ],
   "source": [
    "from sklearn.tree import export_text\n",
    "\n",
    "# Print out the decision tree structure\n",
    "tree_rules = export_text(clf, feature_names=list(X.columns))\n",
    "print(tree_rules)"
   ]
  },
  {
   "cell_type": "markdown",
   "metadata": {},
   "source": [
    "### Feature selection"
   ]
  },
  {
   "cell_type": "markdown",
   "metadata": {},
   "source": [
    " forward feature selection using decision tree"
   ]
  },
  {
   "cell_type": "code",
   "execution_count": 17,
   "metadata": {},
   "outputs": [
    {
     "name": "stdout",
     "output_type": "stream",
     "text": [
      "Selected feature #1: Median (F1-score: 0.813)\n",
      "Selected feature #2: direction_pct (F1-score: 0.798)\n"
     ]
    }
   ],
   "source": [
    "# Create a list to store the selected features\n",
    "selected_features = []\n",
    "\n",
    "# Loop through the features and select the best one\n",
    "for i in range(len(X.columns)):\n",
    "    best_feature = None\n",
    "    best_score = 0\n",
    "    \n",
    "    for feature in X.columns:\n",
    "        # Skip the features that have already been selected\n",
    "        if feature in selected_features:\n",
    "            continue\n",
    "        \n",
    "        # Add the feature to the list of selected features\n",
    "        candidate_features = selected_features + [feature]\n",
    "        \n",
    "        # Train a decision tree model on the selected features\n",
    "        clf = DecisionTreeClassifier(random_state=42)\n",
    "        clf.fit(X_train[candidate_features], y_train)\n",
    "        \n",
    "        # Predict the class labels for the test set\n",
    "        y_pred = clf.predict(X_test[candidate_features])\n",
    "        \n",
    "        # Compute the F1-score for the test set\n",
    "        score = f1_score(y_test, y_pred, average='weighted')\n",
    "        \n",
    "        # Update the best feature if necessary\n",
    "        if score > best_score:\n",
    "            best_feature = feature\n",
    "            best_score = score\n",
    "    \n",
    "    # Add the best feature to the list of selected features\n",
    "    selected_features.append(best_feature)\n",
    "    print(f'Selected feature #{i+1}: {best_feature} (F1-score: {best_score:.3f})')"
   ]
  },
  {
   "cell_type": "code",
   "execution_count": 17,
   "metadata": {},
   "outputs": [],
   "source": []
  }
 ],
 "metadata": {
  "kernelspec": {
   "display_name": "Python 3 (ipykernel)",
   "language": "python",
   "name": "python3"
  },
  "language_info": {
   "codemirror_mode": {
    "name": "ipython",
    "version": 3
   },
   "file_extension": ".py",
   "mimetype": "text/x-python",
   "name": "python",
   "nbconvert_exporter": "python",
   "pygments_lexer": "ipython3",
   "version": "3.11.0"
  }
 },
 "nbformat": 4,
 "nbformat_minor": 1
}

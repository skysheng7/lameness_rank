{
 "cells": [
  {
   "cell_type": "code",
   "execution_count": 31,
   "id": "bcb28b67",
   "metadata": {
    "ExecuteTime": {
     "end_time": "2023-06-05T23:42:24.624507200Z",
     "start_time": "2023-06-05T23:42:24.608810700Z"
    }
   },
   "outputs": [],
   "source": [
    "import pandas as pd\n",
    "import numpy as np\n",
    "import math\n",
    "\n",
    "env = \"Varinia\""
   ]
  },
  {
   "cell_type": "code",
   "execution_count": 32,
   "outputs": [],
   "source": [
    "if env == \"Sky\":\n",
    "    data_path_1='../Expert_response/all_HIT_answer.csv'\n",
    "    data_path_2='../Expert_response/master_all_responses_May-14-2023_to_May-18-2023_Dan.csv'\n",
    "\n",
    "else:\n",
    "    data_path_1=r'C:\\Users\\varin\\PycharmProjects\\amazon-lameness-phase2\\Expert_response\\all_HIT_answer.csv'\n",
    "    data_path_2=r'C:\\Users\\varin\\PycharmProjects\\amazon-lameness-phase2\\Expert_response\\master_all_responses_May-14-2023_to_May-18-2023_Dan.csv'\n",
    "    data_path_3=r'C:\\Users\\varin\\PycharmProjects\\amazon-lameness-phase2\\Expert_response\\gs_response_Jun-04-2023.csv'\n",
    "\n",
    "df_1= pd.read_csv(data_path_1)\n",
    "df_2= pd.read_csv(data_path_2)\n",
    "df_3= pd.read_csv(data_path_3)"
   ],
   "metadata": {
    "collapsed": false,
    "ExecuteTime": {
     "end_time": "2023-06-05T23:42:25.109475600Z",
     "start_time": "2023-06-05T23:42:24.977988Z"
    }
   }
  },
  {
   "cell_type": "code",
   "execution_count": 33,
   "outputs": [],
   "source": [
    "def process_data(df_1, df_2):\n",
    "    # Remove all positive and negative attention checks, keep only 1 copy of the positive attention check\n",
    "    all_test_q = df_1[(df_1['question_type'] != \"neg_attention\") & (df_1['question_type'] != \"pos_attention_easy\")].copy()\n",
    "    pos_attention_q = df_1[df_1['question_type'] == \"pos_attention_easy\"].head(1).copy()\n",
    "\n",
    "    # Concatenate the dataframes and reset the index\n",
    "    all_q = pd.concat([all_test_q, pos_attention_q], ignore_index=True)\n",
    "    all_q.reset_index(drop=True, inplace=True)\n",
    "\n",
    "    # Select the desired columns and convert question_num to int\n",
    "    all_q2 = all_q[['cow_L', 'cow_R', 'question_num', 'HIT']].copy()\n",
    "    all_q2.loc[:, 'question_num'] = all_q2['question_num'].str[1:].astype(int)\n",
    "\n",
    "    # Select the columns for response dataframe\n",
    "    all_q_col = [f\"q{i}\" for i in range(1, 13)]\n",
    "    all_col = all_q_col.copy()\n",
    "    all_col.append('HIT')\n",
    "\n",
    "    # Get the response dataframe\n",
    "    response = df_2[all_col].copy()\n",
    "\n",
    "    return all_q2, response\n"
   ],
   "metadata": {
    "collapsed": false,
    "ExecuteTime": {
     "end_time": "2023-06-05T23:42:25.226013500Z",
     "start_time": "2023-06-05T23:42:25.209727300Z"
    }
   }
  },
  {
   "cell_type": "code",
   "execution_count": 34,
   "outputs": [],
   "source": [
    "def reshape_and_remove_nan(df):\n",
    "    df_melted = df.melt(id_vars='HIT',\n",
    "                        value_vars=['q1', 'q2', 'q3', 'q4', 'q5', 'q6', 'q7', 'q8', 'q9', 'q10', 'q11', 'q12'],\n",
    "                        var_name='question_num',\n",
    "                        value_name='response')\n",
    "    df_melted['question_num'] = df_melted['question_num'].str[1:].astype(int)\n",
    "    df_melted = df_melted.dropna()\n",
    "    return df_melted"
   ],
   "metadata": {
    "collapsed": false,
    "ExecuteTime": {
     "end_time": "2023-06-05T23:42:25.613555800Z",
     "start_time": "2023-06-05T23:42:25.582251300Z"
    }
   }
  },
  {
   "cell_type": "code",
   "execution_count": 35,
   "outputs": [],
   "source": [
    "def process_and_merge(df_1, df_2):\n",
    "    all_q2, response = process_data(df_1, df_2)\n",
    "    response_melted = reshape_and_remove_nan(response)\n",
    "    merged_df = all_q2.merge(response_melted, on=['HIT', 'question_num'], how='inner')\n",
    "    merged_df2 = merged_df[['cow_L', 'cow_R', 'response']]\n",
    "\n",
    "    return merged_df2\n"
   ],
   "metadata": {
    "collapsed": false,
    "ExecuteTime": {
     "end_time": "2023-06-05T23:42:25.795134400Z",
     "start_time": "2023-06-05T23:42:25.763879600Z"
    }
   }
  },
  {
   "cell_type": "code",
   "execution_count": 36,
   "outputs": [
    {
     "name": "stderr",
     "output_type": "stream",
     "text": [
      "C:\\Users\\varin\\AppData\\Local\\Temp\\ipykernel_14344\\1855475665.py:12: FutureWarning: In a future version, `df.iloc[:, i] = newvals` will attempt to set the values inplace instead of always setting a new array. To retain the old behavior, use either `df[df.columns[i]] = newvals` or, if columns are non-unique, `df.isetitem(i, newvals)`\n",
      "  all_q2.loc[:, 'question_num'] = all_q2['question_num'].str[1:].astype(int)\n"
     ]
    },
    {
     "data": {
      "text/plain": "     cow_L  cow_R  response\n0     6029   7138      -1.0\n1     5087   4008      -3.0\n2     6092   7114       0.0\n3     6053   6088       1.0\n4     4035   7060      -1.0\n..     ...    ...       ...\n430   5087   5064      -1.0\n431   6046   4035       2.0\n432   7109   7153      -1.0\n433   6068   5118      -1.0\n434   5087   6068      -1.0\n\n[435 rows x 3 columns]",
      "text/html": "<div>\n<style scoped>\n    .dataframe tbody tr th:only-of-type {\n        vertical-align: middle;\n    }\n\n    .dataframe tbody tr th {\n        vertical-align: top;\n    }\n\n    .dataframe thead th {\n        text-align: right;\n    }\n</style>\n<table border=\"1\" class=\"dataframe\">\n  <thead>\n    <tr style=\"text-align: right;\">\n      <th></th>\n      <th>cow_L</th>\n      <th>cow_R</th>\n      <th>response</th>\n    </tr>\n  </thead>\n  <tbody>\n    <tr>\n      <th>0</th>\n      <td>6029</td>\n      <td>7138</td>\n      <td>-1.0</td>\n    </tr>\n    <tr>\n      <th>1</th>\n      <td>5087</td>\n      <td>4008</td>\n      <td>-3.0</td>\n    </tr>\n    <tr>\n      <th>2</th>\n      <td>6092</td>\n      <td>7114</td>\n      <td>0.0</td>\n    </tr>\n    <tr>\n      <th>3</th>\n      <td>6053</td>\n      <td>6088</td>\n      <td>1.0</td>\n    </tr>\n    <tr>\n      <th>4</th>\n      <td>4035</td>\n      <td>7060</td>\n      <td>-1.0</td>\n    </tr>\n    <tr>\n      <th>...</th>\n      <td>...</td>\n      <td>...</td>\n      <td>...</td>\n    </tr>\n    <tr>\n      <th>430</th>\n      <td>5087</td>\n      <td>5064</td>\n      <td>-1.0</td>\n    </tr>\n    <tr>\n      <th>431</th>\n      <td>6046</td>\n      <td>4035</td>\n      <td>2.0</td>\n    </tr>\n    <tr>\n      <th>432</th>\n      <td>7109</td>\n      <td>7153</td>\n      <td>-1.0</td>\n    </tr>\n    <tr>\n      <th>433</th>\n      <td>6068</td>\n      <td>5118</td>\n      <td>-1.0</td>\n    </tr>\n    <tr>\n      <th>434</th>\n      <td>5087</td>\n      <td>6068</td>\n      <td>-1.0</td>\n    </tr>\n  </tbody>\n</table>\n<p>435 rows × 3 columns</p>\n</div>"
     },
     "metadata": {},
     "output_type": "display_data"
    }
   ],
   "source": [
    "final_df=process_and_merge(df_1, df_2)\n",
    "display(final_df)"
   ],
   "metadata": {
    "collapsed": false,
    "ExecuteTime": {
     "end_time": "2023-06-05T23:42:26.064361Z",
     "start_time": "2023-06-05T23:42:26.010977700Z"
    }
   }
  },
  {
   "cell_type": "code",
   "execution_count": 37,
   "outputs": [],
   "source": [
    "def simple_responses(df):\n",
    "    N=df.shape[0]\n",
    "    matrix=[]\n",
    "    for i in range(N):\n",
    "        aux_df=df.iloc[[i]]\n",
    "        cow_L=aux_df.at[i,'cow_L']\n",
    "        cow_R=aux_df.at[i,'cow_R']\n",
    "        response=aux_df.at[i,'response']\n",
    "        if response==0:\n",
    "            row=np.concatenate(([cow_L],[cow_R],[0]))\n",
    "        elif response<0:\n",
    "            row=np.concatenate(([cow_L],[cow_R],[-1]))\n",
    "        else:\n",
    "            row=np.concatenate(([cow_L],[cow_R],[1]))\n",
    "        matrix.append(row.tolist())\n",
    "    new_df=pd.DataFrame(matrix)\n",
    "    new_df.columns=['cow_L', 'cow_R', 'response']\n",
    "\n",
    "    return new_df"
   ],
   "metadata": {
    "collapsed": false,
    "ExecuteTime": {
     "end_time": "2023-06-05T23:42:26.242561200Z",
     "start_time": "2023-06-05T23:42:26.226937500Z"
    }
   }
  },
  {
   "cell_type": "code",
   "execution_count": 38,
   "outputs": [
    {
     "data": {
      "text/plain": "     cow_L  cow_R  response\n0     6029   7138        -1\n1     5087   4008        -1\n2     6092   7114         0\n3     6053   6088         1\n4     4035   7060        -1\n..     ...    ...       ...\n430   5087   5064        -1\n431   6046   4035         1\n432   7109   7153        -1\n433   6068   5118        -1\n434   5087   6068        -1\n\n[435 rows x 3 columns]",
      "text/html": "<div>\n<style scoped>\n    .dataframe tbody tr th:only-of-type {\n        vertical-align: middle;\n    }\n\n    .dataframe tbody tr th {\n        vertical-align: top;\n    }\n\n    .dataframe thead th {\n        text-align: right;\n    }\n</style>\n<table border=\"1\" class=\"dataframe\">\n  <thead>\n    <tr style=\"text-align: right;\">\n      <th></th>\n      <th>cow_L</th>\n      <th>cow_R</th>\n      <th>response</th>\n    </tr>\n  </thead>\n  <tbody>\n    <tr>\n      <th>0</th>\n      <td>6029</td>\n      <td>7138</td>\n      <td>-1</td>\n    </tr>\n    <tr>\n      <th>1</th>\n      <td>5087</td>\n      <td>4008</td>\n      <td>-1</td>\n    </tr>\n    <tr>\n      <th>2</th>\n      <td>6092</td>\n      <td>7114</td>\n      <td>0</td>\n    </tr>\n    <tr>\n      <th>3</th>\n      <td>6053</td>\n      <td>6088</td>\n      <td>1</td>\n    </tr>\n    <tr>\n      <th>4</th>\n      <td>4035</td>\n      <td>7060</td>\n      <td>-1</td>\n    </tr>\n    <tr>\n      <th>...</th>\n      <td>...</td>\n      <td>...</td>\n      <td>...</td>\n    </tr>\n    <tr>\n      <th>430</th>\n      <td>5087</td>\n      <td>5064</td>\n      <td>-1</td>\n    </tr>\n    <tr>\n      <th>431</th>\n      <td>6046</td>\n      <td>4035</td>\n      <td>1</td>\n    </tr>\n    <tr>\n      <th>432</th>\n      <td>7109</td>\n      <td>7153</td>\n      <td>-1</td>\n    </tr>\n    <tr>\n      <th>433</th>\n      <td>6068</td>\n      <td>5118</td>\n      <td>-1</td>\n    </tr>\n    <tr>\n      <th>434</th>\n      <td>5087</td>\n      <td>6068</td>\n      <td>-1</td>\n    </tr>\n  </tbody>\n</table>\n<p>435 rows × 3 columns</p>\n</div>"
     },
     "metadata": {},
     "output_type": "display_data"
    }
   ],
   "source": [
    "responses=simple_responses(final_df)\n",
    "display(responses)"
   ],
   "metadata": {
    "collapsed": false,
    "ExecuteTime": {
     "end_time": "2023-06-05T23:42:27.274395200Z",
     "start_time": "2023-06-05T23:42:27.142397800Z"
    }
   }
  },
  {
   "cell_type": "code",
   "execution_count": 39,
   "id": "f1b3dca1",
   "metadata": {
    "ExecuteTime": {
     "end_time": "2023-06-05T23:42:27.963092200Z",
     "start_time": "2023-06-05T23:42:27.942864300Z"
    }
   },
   "outputs": [],
   "source": [
    "def list_cows(df):\n",
    "    first_cow=df.loc[0,'cow_L']\n",
    "    aux_df=df[df['cow_L']==first_cow]\n",
    "    cows_1=list(aux_df['cow_R'])\n",
    "    aux_df=df[df['cow_R']==first_cow]\n",
    "    cows_2=list(aux_df['cow_L'])\n",
    "    for i in cows_2:\n",
    "        cows_1.append(i)\n",
    "    cows_1.append(first_cow)\n",
    "    return cows_1"
   ]
  },
  {
   "cell_type": "code",
   "execution_count": 40,
   "id": "96764dfc",
   "metadata": {
    "ExecuteTime": {
     "end_time": "2023-06-05T23:42:28.640626100Z",
     "start_time": "2023-06-05T23:42:28.618368400Z"
    }
   },
   "outputs": [
    {
     "name": "stdout",
     "output_type": "stream",
     "text": [
      "[7138, 6062, 8083, 7128, 6025, 7153, 4035, 6092, 4026, 6086, 6094, 7060, 7116, 6088, 7163, 5064, 6095, 7136, 7114, 4008, 7064, 6053, 5118, 6096, 7109, 6046, 6068, 5087, 7045, 6029]\n",
      "30\n"
     ]
    }
   ],
   "source": [
    "cow_order=list_cows(responses)\n",
    "print(cow_order)\n",
    "print(len(cow_order))"
   ]
  },
  {
   "cell_type": "code",
   "execution_count": 41,
   "id": "33d60c68",
   "metadata": {
    "ExecuteTime": {
     "end_time": "2023-06-05T23:42:28.840855400Z",
     "start_time": "2023-06-05T23:42:28.818713300Z"
    }
   },
   "outputs": [],
   "source": [
    "def matrix_comparison(df):\n",
    "    cow_order=list_cows(df)\n",
    "    num_cows=len(cow_order)\n",
    "    data_comp=np.zeros( (num_cows, num_cows) )\n",
    "    for i in range(num_cows):\n",
    "        for j in range(num_cows):\n",
    "            if (i==j):\n",
    "                data_comp[i][j]=np.nan\n",
    "            else:\n",
    "                aux=df[(df['cow_L']==cow_order[i])|(df['cow_R']==cow_order[i])]\n",
    "                aux=aux[(aux['cow_L']==cow_order[j])|(aux['cow_R']==cow_order[j])]\n",
    "                #print(aux)\n",
    "                cow_L=aux['cow_L'].to_numpy()\n",
    "                cow_R=aux['cow_R'].to_numpy()\n",
    "                response=aux['response'].to_numpy()\n",
    "                if(response[0]==0):\n",
    "                    data_comp[i][j]=0\n",
    "                else:        \n",
    "                    if(cow_L[0]==cow_order[i]):\n",
    "                        if(response[0]<0):\n",
    "                            data_comp[i][j]=1\n",
    "                        else: \n",
    "                            data_comp[i][j]=-1\n",
    "                    else: #aux['cow_L']==cow_order[j]\n",
    "                        if(response[0]<0):\n",
    "                            data_comp[i][j]=-1\n",
    "                        else: \n",
    "                            data_comp[i][j]=1\n",
    "    data_comp = pd.DataFrame(data_comp)\n",
    "    return data_comp "
   ]
  },
  {
   "cell_type": "code",
   "execution_count": 42,
   "id": "e75d660f",
   "metadata": {
    "ExecuteTime": {
     "end_time": "2023-06-05T23:42:29.072026400Z",
     "start_time": "2023-06-05T23:42:29.040754900Z"
    }
   },
   "outputs": [],
   "source": [
    "\n",
    "def mergeSort(lst,comp,data_comparison):\n",
    "    if len(lst) > 1:\n",
    "        r = len(lst)//2\n",
    "        L = lst[:r]\n",
    "        M = lst[r:]\n",
    "        L,comp=mergeSort(L,comp,data_comparison)\n",
    "        M,comp=mergeSort(M,comp,data_comparison)\n",
    "        lst=L+M\n",
    "        i = j = k = 0\n",
    "\n",
    "        while i < len(L) and j < len(M):\n",
    "            comp += 1\n",
    "            if data_comparison[L[i][0]][M[j][0]]==1 :\n",
    "                lst[k] = L[i]\n",
    "                i += 1\n",
    "            else:\n",
    "                lst[k] = M[j]\n",
    "                j += 1\n",
    "            k += 1\n",
    "\n",
    "        while i < len(L):\n",
    "            lst[k] = L[i]\n",
    "            i += 1\n",
    "            k += 1\n",
    "\n",
    "        while j < len(M):\n",
    "            lst[k] = M[j]\n",
    "            j += 1\n",
    "            k += 1\n",
    "    return lst,comp\n"
   ]
  },
  {
   "cell_type": "code",
   "execution_count": 43,
   "id": "c8576c69",
   "metadata": {
    "scrolled": true,
    "ExecuteTime": {
     "end_time": "2023-06-05T23:42:30.748695400Z",
     "start_time": "2023-06-05T23:42:29.425583900Z"
    }
   },
   "outputs": [
    {
     "data": {
      "text/plain": "     0    1    2    3    4    5    6    7    8    9   ...   20   21   22   23  \\\n0   NaN  1.0  0.0 -1.0  1.0  1.0 -1.0  1.0 -1.0 -1.0  ...  0.0  0.0  1.0 -1.0   \n1  -1.0  NaN  1.0  0.0 -1.0 -1.0 -1.0  0.0 -1.0  1.0  ...  0.0 -1.0  1.0 -1.0   \n2   0.0 -1.0  NaN  0.0  1.0 -1.0  1.0  1.0  0.0 -1.0  ...  1.0  0.0  0.0 -1.0   \n3   1.0  0.0  0.0  NaN  1.0  1.0 -1.0  0.0  1.0  1.0  ...  1.0  1.0  0.0  0.0   \n4  -1.0  1.0 -1.0 -1.0  NaN  1.0 -1.0  0.0 -1.0  1.0  ...  1.0  1.0  0.0  1.0   \n5  -1.0  1.0  1.0 -1.0 -1.0  NaN -1.0  0.0  1.0 -1.0  ...  1.0  1.0  0.0  1.0   \n6   1.0  1.0 -1.0  1.0  1.0  1.0  NaN  1.0  1.0  1.0  ...  1.0  1.0  1.0  1.0   \n7  -1.0  0.0 -1.0  0.0  0.0  0.0 -1.0  NaN -1.0 -1.0  ... -1.0  0.0 -1.0 -1.0   \n8   1.0  1.0  0.0 -1.0  1.0 -1.0 -1.0  1.0  NaN  1.0  ...  0.0  1.0 -1.0  1.0   \n9   1.0 -1.0  1.0 -1.0 -1.0  1.0 -1.0  1.0 -1.0  NaN  ... -1.0 -1.0  1.0  1.0   \n10  1.0  0.0 -1.0  1.0 -1.0  1.0 -1.0  0.0 -1.0 -1.0  ... -1.0 -1.0  1.0  1.0   \n11  0.0 -1.0 -1.0 -1.0  1.0  0.0 -1.0  0.0 -1.0  0.0  ... -1.0 -1.0 -1.0 -1.0   \n12  1.0  1.0  1.0  1.0  1.0  1.0 -1.0  1.0  1.0  1.0  ...  1.0  1.0  1.0  1.0   \n13  1.0  1.0  1.0  1.0  1.0  1.0 -1.0  1.0  1.0  1.0  ...  1.0  1.0  1.0  1.0   \n14 -1.0  0.0 -1.0 -1.0  1.0  0.0 -1.0  0.0 -1.0 -1.0  ... -1.0  0.0  1.0 -1.0   \n15  1.0 -1.0  0.0  0.0 -1.0  0.0 -1.0  0.0  1.0  1.0  ...  0.0  0.0  1.0 -1.0   \n16  0.0  0.0  1.0  1.0 -1.0  1.0 -1.0  1.0 -1.0  1.0  ...  1.0 -1.0  1.0  1.0   \n17  1.0  0.0 -1.0 -1.0  0.0  0.0 -1.0  0.0  1.0 -1.0  ...  1.0 -1.0  1.0  1.0   \n18  0.0 -1.0 -1.0  1.0 -1.0  0.0 -1.0  0.0 -1.0  1.0  ...  0.0 -1.0  1.0 -1.0   \n19  1.0  1.0  1.0  1.0  1.0  1.0 -1.0  1.0  1.0  1.0  ...  1.0  1.0  1.0  1.0   \n20  0.0  0.0 -1.0 -1.0 -1.0 -1.0 -1.0  1.0  0.0  1.0  ...  NaN  1.0  1.0  1.0   \n21  0.0  1.0  0.0 -1.0 -1.0 -1.0 -1.0  0.0 -1.0  1.0  ... -1.0  NaN -1.0  1.0   \n22 -1.0 -1.0  0.0  0.0  0.0  0.0 -1.0  1.0  1.0 -1.0  ... -1.0  1.0  NaN  0.0   \n23  1.0  1.0  1.0  0.0 -1.0 -1.0 -1.0  1.0 -1.0 -1.0  ... -1.0 -1.0  0.0  NaN   \n24  1.0  1.0  1.0 -1.0 -1.0  1.0 -1.0  1.0  0.0 -1.0  ...  0.0 -1.0  0.0  0.0   \n25 -1.0 -1.0 -1.0 -1.0 -1.0  0.0 -1.0  0.0  1.0 -1.0  ...  0.0 -1.0  0.0 -1.0   \n26 -1.0 -1.0 -1.0 -1.0 -1.0  0.0 -1.0  0.0  0.0 -1.0  ... -1.0  0.0  1.0  1.0   \n27  1.0  1.0  1.0  1.0  1.0  1.0 -1.0  1.0  0.0  1.0  ...  1.0  1.0  1.0  1.0   \n28  0.0 -1.0  1.0 -1.0  0.0  0.0 -1.0  0.0 -1.0 -1.0  ... -1.0 -1.0 -1.0 -1.0   \n29  1.0 -1.0 -1.0 -1.0 -1.0 -1.0 -1.0  0.0 -1.0 -1.0  ... -1.0  0.0 -1.0 -1.0   \n\n     24   25   26   27   28   29  \n0  -1.0  1.0  1.0 -1.0  0.0 -1.0  \n1  -1.0  1.0  1.0 -1.0  1.0  1.0  \n2  -1.0  1.0  1.0 -1.0 -1.0  1.0  \n3   1.0  1.0  1.0 -1.0  1.0  1.0  \n4   1.0  1.0  1.0 -1.0  0.0  1.0  \n5  -1.0  0.0  0.0 -1.0  0.0  1.0  \n6   1.0  1.0  1.0  1.0  1.0  1.0  \n7  -1.0  0.0  0.0 -1.0  0.0  0.0  \n8   0.0 -1.0  0.0  0.0  1.0  1.0  \n9   1.0  1.0  1.0 -1.0  1.0  1.0  \n10 -1.0  1.0  1.0 -1.0  1.0  1.0  \n11 -1.0 -1.0 -1.0 -1.0  0.0  0.0  \n12  1.0  1.0  1.0 -1.0  1.0  1.0  \n13  1.0  1.0  1.0 -1.0  1.0  1.0  \n14 -1.0  1.0 -1.0 -1.0  1.0  1.0  \n15 -1.0  0.0  1.0 -1.0  0.0  1.0  \n16 -1.0  0.0  1.0 -1.0  1.0  1.0  \n17 -1.0  1.0 -1.0 -1.0  1.0  1.0  \n18  0.0  0.0  0.0 -1.0  0.0 -1.0  \n19  1.0  1.0  1.0 -1.0  1.0  1.0  \n20  0.0  0.0  1.0 -1.0  1.0  1.0  \n21  1.0  1.0  0.0 -1.0  1.0  0.0  \n22  0.0  0.0 -1.0 -1.0  1.0  1.0  \n23  0.0  1.0 -1.0 -1.0  1.0  1.0  \n24  NaN  1.0  1.0 -1.0  1.0  1.0  \n25 -1.0  NaN -1.0 -1.0 -1.0  0.0  \n26 -1.0  1.0  NaN -1.0  1.0  0.0  \n27  1.0  1.0  1.0  NaN  1.0  1.0  \n28 -1.0  1.0 -1.0 -1.0  NaN -1.0  \n29 -1.0  0.0  0.0 -1.0  1.0  NaN  \n\n[30 rows x 30 columns]",
      "text/html": "<div>\n<style scoped>\n    .dataframe tbody tr th:only-of-type {\n        vertical-align: middle;\n    }\n\n    .dataframe tbody tr th {\n        vertical-align: top;\n    }\n\n    .dataframe thead th {\n        text-align: right;\n    }\n</style>\n<table border=\"1\" class=\"dataframe\">\n  <thead>\n    <tr style=\"text-align: right;\">\n      <th></th>\n      <th>0</th>\n      <th>1</th>\n      <th>2</th>\n      <th>3</th>\n      <th>4</th>\n      <th>5</th>\n      <th>6</th>\n      <th>7</th>\n      <th>8</th>\n      <th>9</th>\n      <th>...</th>\n      <th>20</th>\n      <th>21</th>\n      <th>22</th>\n      <th>23</th>\n      <th>24</th>\n      <th>25</th>\n      <th>26</th>\n      <th>27</th>\n      <th>28</th>\n      <th>29</th>\n    </tr>\n  </thead>\n  <tbody>\n    <tr>\n      <th>0</th>\n      <td>NaN</td>\n      <td>1.0</td>\n      <td>0.0</td>\n      <td>-1.0</td>\n      <td>1.0</td>\n      <td>1.0</td>\n      <td>-1.0</td>\n      <td>1.0</td>\n      <td>-1.0</td>\n      <td>-1.0</td>\n      <td>...</td>\n      <td>0.0</td>\n      <td>0.0</td>\n      <td>1.0</td>\n      <td>-1.0</td>\n      <td>-1.0</td>\n      <td>1.0</td>\n      <td>1.0</td>\n      <td>-1.0</td>\n      <td>0.0</td>\n      <td>-1.0</td>\n    </tr>\n    <tr>\n      <th>1</th>\n      <td>-1.0</td>\n      <td>NaN</td>\n      <td>1.0</td>\n      <td>0.0</td>\n      <td>-1.0</td>\n      <td>-1.0</td>\n      <td>-1.0</td>\n      <td>0.0</td>\n      <td>-1.0</td>\n      <td>1.0</td>\n      <td>...</td>\n      <td>0.0</td>\n      <td>-1.0</td>\n      <td>1.0</td>\n      <td>-1.0</td>\n      <td>-1.0</td>\n      <td>1.0</td>\n      <td>1.0</td>\n      <td>-1.0</td>\n      <td>1.0</td>\n      <td>1.0</td>\n    </tr>\n    <tr>\n      <th>2</th>\n      <td>0.0</td>\n      <td>-1.0</td>\n      <td>NaN</td>\n      <td>0.0</td>\n      <td>1.0</td>\n      <td>-1.0</td>\n      <td>1.0</td>\n      <td>1.0</td>\n      <td>0.0</td>\n      <td>-1.0</td>\n      <td>...</td>\n      <td>1.0</td>\n      <td>0.0</td>\n      <td>0.0</td>\n      <td>-1.0</td>\n      <td>-1.0</td>\n      <td>1.0</td>\n      <td>1.0</td>\n      <td>-1.0</td>\n      <td>-1.0</td>\n      <td>1.0</td>\n    </tr>\n    <tr>\n      <th>3</th>\n      <td>1.0</td>\n      <td>0.0</td>\n      <td>0.0</td>\n      <td>NaN</td>\n      <td>1.0</td>\n      <td>1.0</td>\n      <td>-1.0</td>\n      <td>0.0</td>\n      <td>1.0</td>\n      <td>1.0</td>\n      <td>...</td>\n      <td>1.0</td>\n      <td>1.0</td>\n      <td>0.0</td>\n      <td>0.0</td>\n      <td>1.0</td>\n      <td>1.0</td>\n      <td>1.0</td>\n      <td>-1.0</td>\n      <td>1.0</td>\n      <td>1.0</td>\n    </tr>\n    <tr>\n      <th>4</th>\n      <td>-1.0</td>\n      <td>1.0</td>\n      <td>-1.0</td>\n      <td>-1.0</td>\n      <td>NaN</td>\n      <td>1.0</td>\n      <td>-1.0</td>\n      <td>0.0</td>\n      <td>-1.0</td>\n      <td>1.0</td>\n      <td>...</td>\n      <td>1.0</td>\n      <td>1.0</td>\n      <td>0.0</td>\n      <td>1.0</td>\n      <td>1.0</td>\n      <td>1.0</td>\n      <td>1.0</td>\n      <td>-1.0</td>\n      <td>0.0</td>\n      <td>1.0</td>\n    </tr>\n    <tr>\n      <th>5</th>\n      <td>-1.0</td>\n      <td>1.0</td>\n      <td>1.0</td>\n      <td>-1.0</td>\n      <td>-1.0</td>\n      <td>NaN</td>\n      <td>-1.0</td>\n      <td>0.0</td>\n      <td>1.0</td>\n      <td>-1.0</td>\n      <td>...</td>\n      <td>1.0</td>\n      <td>1.0</td>\n      <td>0.0</td>\n      <td>1.0</td>\n      <td>-1.0</td>\n      <td>0.0</td>\n      <td>0.0</td>\n      <td>-1.0</td>\n      <td>0.0</td>\n      <td>1.0</td>\n    </tr>\n    <tr>\n      <th>6</th>\n      <td>1.0</td>\n      <td>1.0</td>\n      <td>-1.0</td>\n      <td>1.0</td>\n      <td>1.0</td>\n      <td>1.0</td>\n      <td>NaN</td>\n      <td>1.0</td>\n      <td>1.0</td>\n      <td>1.0</td>\n      <td>...</td>\n      <td>1.0</td>\n      <td>1.0</td>\n      <td>1.0</td>\n      <td>1.0</td>\n      <td>1.0</td>\n      <td>1.0</td>\n      <td>1.0</td>\n      <td>1.0</td>\n      <td>1.0</td>\n      <td>1.0</td>\n    </tr>\n    <tr>\n      <th>7</th>\n      <td>-1.0</td>\n      <td>0.0</td>\n      <td>-1.0</td>\n      <td>0.0</td>\n      <td>0.0</td>\n      <td>0.0</td>\n      <td>-1.0</td>\n      <td>NaN</td>\n      <td>-1.0</td>\n      <td>-1.0</td>\n      <td>...</td>\n      <td>-1.0</td>\n      <td>0.0</td>\n      <td>-1.0</td>\n      <td>-1.0</td>\n      <td>-1.0</td>\n      <td>0.0</td>\n      <td>0.0</td>\n      <td>-1.0</td>\n      <td>0.0</td>\n      <td>0.0</td>\n    </tr>\n    <tr>\n      <th>8</th>\n      <td>1.0</td>\n      <td>1.0</td>\n      <td>0.0</td>\n      <td>-1.0</td>\n      <td>1.0</td>\n      <td>-1.0</td>\n      <td>-1.0</td>\n      <td>1.0</td>\n      <td>NaN</td>\n      <td>1.0</td>\n      <td>...</td>\n      <td>0.0</td>\n      <td>1.0</td>\n      <td>-1.0</td>\n      <td>1.0</td>\n      <td>0.0</td>\n      <td>-1.0</td>\n      <td>0.0</td>\n      <td>0.0</td>\n      <td>1.0</td>\n      <td>1.0</td>\n    </tr>\n    <tr>\n      <th>9</th>\n      <td>1.0</td>\n      <td>-1.0</td>\n      <td>1.0</td>\n      <td>-1.0</td>\n      <td>-1.0</td>\n      <td>1.0</td>\n      <td>-1.0</td>\n      <td>1.0</td>\n      <td>-1.0</td>\n      <td>NaN</td>\n      <td>...</td>\n      <td>-1.0</td>\n      <td>-1.0</td>\n      <td>1.0</td>\n      <td>1.0</td>\n      <td>1.0</td>\n      <td>1.0</td>\n      <td>1.0</td>\n      <td>-1.0</td>\n      <td>1.0</td>\n      <td>1.0</td>\n    </tr>\n    <tr>\n      <th>10</th>\n      <td>1.0</td>\n      <td>0.0</td>\n      <td>-1.0</td>\n      <td>1.0</td>\n      <td>-1.0</td>\n      <td>1.0</td>\n      <td>-1.0</td>\n      <td>0.0</td>\n      <td>-1.0</td>\n      <td>-1.0</td>\n      <td>...</td>\n      <td>-1.0</td>\n      <td>-1.0</td>\n      <td>1.0</td>\n      <td>1.0</td>\n      <td>-1.0</td>\n      <td>1.0</td>\n      <td>1.0</td>\n      <td>-1.0</td>\n      <td>1.0</td>\n      <td>1.0</td>\n    </tr>\n    <tr>\n      <th>11</th>\n      <td>0.0</td>\n      <td>-1.0</td>\n      <td>-1.0</td>\n      <td>-1.0</td>\n      <td>1.0</td>\n      <td>0.0</td>\n      <td>-1.0</td>\n      <td>0.0</td>\n      <td>-1.0</td>\n      <td>0.0</td>\n      <td>...</td>\n      <td>-1.0</td>\n      <td>-1.0</td>\n      <td>-1.0</td>\n      <td>-1.0</td>\n      <td>-1.0</td>\n      <td>-1.0</td>\n      <td>-1.0</td>\n      <td>-1.0</td>\n      <td>0.0</td>\n      <td>0.0</td>\n    </tr>\n    <tr>\n      <th>12</th>\n      <td>1.0</td>\n      <td>1.0</td>\n      <td>1.0</td>\n      <td>1.0</td>\n      <td>1.0</td>\n      <td>1.0</td>\n      <td>-1.0</td>\n      <td>1.0</td>\n      <td>1.0</td>\n      <td>1.0</td>\n      <td>...</td>\n      <td>1.0</td>\n      <td>1.0</td>\n      <td>1.0</td>\n      <td>1.0</td>\n      <td>1.0</td>\n      <td>1.0</td>\n      <td>1.0</td>\n      <td>-1.0</td>\n      <td>1.0</td>\n      <td>1.0</td>\n    </tr>\n    <tr>\n      <th>13</th>\n      <td>1.0</td>\n      <td>1.0</td>\n      <td>1.0</td>\n      <td>1.0</td>\n      <td>1.0</td>\n      <td>1.0</td>\n      <td>-1.0</td>\n      <td>1.0</td>\n      <td>1.0</td>\n      <td>1.0</td>\n      <td>...</td>\n      <td>1.0</td>\n      <td>1.0</td>\n      <td>1.0</td>\n      <td>1.0</td>\n      <td>1.0</td>\n      <td>1.0</td>\n      <td>1.0</td>\n      <td>-1.0</td>\n      <td>1.0</td>\n      <td>1.0</td>\n    </tr>\n    <tr>\n      <th>14</th>\n      <td>-1.0</td>\n      <td>0.0</td>\n      <td>-1.0</td>\n      <td>-1.0</td>\n      <td>1.0</td>\n      <td>0.0</td>\n      <td>-1.0</td>\n      <td>0.0</td>\n      <td>-1.0</td>\n      <td>-1.0</td>\n      <td>...</td>\n      <td>-1.0</td>\n      <td>0.0</td>\n      <td>1.0</td>\n      <td>-1.0</td>\n      <td>-1.0</td>\n      <td>1.0</td>\n      <td>-1.0</td>\n      <td>-1.0</td>\n      <td>1.0</td>\n      <td>1.0</td>\n    </tr>\n    <tr>\n      <th>15</th>\n      <td>1.0</td>\n      <td>-1.0</td>\n      <td>0.0</td>\n      <td>0.0</td>\n      <td>-1.0</td>\n      <td>0.0</td>\n      <td>-1.0</td>\n      <td>0.0</td>\n      <td>1.0</td>\n      <td>1.0</td>\n      <td>...</td>\n      <td>0.0</td>\n      <td>0.0</td>\n      <td>1.0</td>\n      <td>-1.0</td>\n      <td>-1.0</td>\n      <td>0.0</td>\n      <td>1.0</td>\n      <td>-1.0</td>\n      <td>0.0</td>\n      <td>1.0</td>\n    </tr>\n    <tr>\n      <th>16</th>\n      <td>0.0</td>\n      <td>0.0</td>\n      <td>1.0</td>\n      <td>1.0</td>\n      <td>-1.0</td>\n      <td>1.0</td>\n      <td>-1.0</td>\n      <td>1.0</td>\n      <td>-1.0</td>\n      <td>1.0</td>\n      <td>...</td>\n      <td>1.0</td>\n      <td>-1.0</td>\n      <td>1.0</td>\n      <td>1.0</td>\n      <td>-1.0</td>\n      <td>0.0</td>\n      <td>1.0</td>\n      <td>-1.0</td>\n      <td>1.0</td>\n      <td>1.0</td>\n    </tr>\n    <tr>\n      <th>17</th>\n      <td>1.0</td>\n      <td>0.0</td>\n      <td>-1.0</td>\n      <td>-1.0</td>\n      <td>0.0</td>\n      <td>0.0</td>\n      <td>-1.0</td>\n      <td>0.0</td>\n      <td>1.0</td>\n      <td>-1.0</td>\n      <td>...</td>\n      <td>1.0</td>\n      <td>-1.0</td>\n      <td>1.0</td>\n      <td>1.0</td>\n      <td>-1.0</td>\n      <td>1.0</td>\n      <td>-1.0</td>\n      <td>-1.0</td>\n      <td>1.0</td>\n      <td>1.0</td>\n    </tr>\n    <tr>\n      <th>18</th>\n      <td>0.0</td>\n      <td>-1.0</td>\n      <td>-1.0</td>\n      <td>1.0</td>\n      <td>-1.0</td>\n      <td>0.0</td>\n      <td>-1.0</td>\n      <td>0.0</td>\n      <td>-1.0</td>\n      <td>1.0</td>\n      <td>...</td>\n      <td>0.0</td>\n      <td>-1.0</td>\n      <td>1.0</td>\n      <td>-1.0</td>\n      <td>0.0</td>\n      <td>0.0</td>\n      <td>0.0</td>\n      <td>-1.0</td>\n      <td>0.0</td>\n      <td>-1.0</td>\n    </tr>\n    <tr>\n      <th>19</th>\n      <td>1.0</td>\n      <td>1.0</td>\n      <td>1.0</td>\n      <td>1.0</td>\n      <td>1.0</td>\n      <td>1.0</td>\n      <td>-1.0</td>\n      <td>1.0</td>\n      <td>1.0</td>\n      <td>1.0</td>\n      <td>...</td>\n      <td>1.0</td>\n      <td>1.0</td>\n      <td>1.0</td>\n      <td>1.0</td>\n      <td>1.0</td>\n      <td>1.0</td>\n      <td>1.0</td>\n      <td>-1.0</td>\n      <td>1.0</td>\n      <td>1.0</td>\n    </tr>\n    <tr>\n      <th>20</th>\n      <td>0.0</td>\n      <td>0.0</td>\n      <td>-1.0</td>\n      <td>-1.0</td>\n      <td>-1.0</td>\n      <td>-1.0</td>\n      <td>-1.0</td>\n      <td>1.0</td>\n      <td>0.0</td>\n      <td>1.0</td>\n      <td>...</td>\n      <td>NaN</td>\n      <td>1.0</td>\n      <td>1.0</td>\n      <td>1.0</td>\n      <td>0.0</td>\n      <td>0.0</td>\n      <td>1.0</td>\n      <td>-1.0</td>\n      <td>1.0</td>\n      <td>1.0</td>\n    </tr>\n    <tr>\n      <th>21</th>\n      <td>0.0</td>\n      <td>1.0</td>\n      <td>0.0</td>\n      <td>-1.0</td>\n      <td>-1.0</td>\n      <td>-1.0</td>\n      <td>-1.0</td>\n      <td>0.0</td>\n      <td>-1.0</td>\n      <td>1.0</td>\n      <td>...</td>\n      <td>-1.0</td>\n      <td>NaN</td>\n      <td>-1.0</td>\n      <td>1.0</td>\n      <td>1.0</td>\n      <td>1.0</td>\n      <td>0.0</td>\n      <td>-1.0</td>\n      <td>1.0</td>\n      <td>0.0</td>\n    </tr>\n    <tr>\n      <th>22</th>\n      <td>-1.0</td>\n      <td>-1.0</td>\n      <td>0.0</td>\n      <td>0.0</td>\n      <td>0.0</td>\n      <td>0.0</td>\n      <td>-1.0</td>\n      <td>1.0</td>\n      <td>1.0</td>\n      <td>-1.0</td>\n      <td>...</td>\n      <td>-1.0</td>\n      <td>1.0</td>\n      <td>NaN</td>\n      <td>0.0</td>\n      <td>0.0</td>\n      <td>0.0</td>\n      <td>-1.0</td>\n      <td>-1.0</td>\n      <td>1.0</td>\n      <td>1.0</td>\n    </tr>\n    <tr>\n      <th>23</th>\n      <td>1.0</td>\n      <td>1.0</td>\n      <td>1.0</td>\n      <td>0.0</td>\n      <td>-1.0</td>\n      <td>-1.0</td>\n      <td>-1.0</td>\n      <td>1.0</td>\n      <td>-1.0</td>\n      <td>-1.0</td>\n      <td>...</td>\n      <td>-1.0</td>\n      <td>-1.0</td>\n      <td>0.0</td>\n      <td>NaN</td>\n      <td>0.0</td>\n      <td>1.0</td>\n      <td>-1.0</td>\n      <td>-1.0</td>\n      <td>1.0</td>\n      <td>1.0</td>\n    </tr>\n    <tr>\n      <th>24</th>\n      <td>1.0</td>\n      <td>1.0</td>\n      <td>1.0</td>\n      <td>-1.0</td>\n      <td>-1.0</td>\n      <td>1.0</td>\n      <td>-1.0</td>\n      <td>1.0</td>\n      <td>0.0</td>\n      <td>-1.0</td>\n      <td>...</td>\n      <td>0.0</td>\n      <td>-1.0</td>\n      <td>0.0</td>\n      <td>0.0</td>\n      <td>NaN</td>\n      <td>1.0</td>\n      <td>1.0</td>\n      <td>-1.0</td>\n      <td>1.0</td>\n      <td>1.0</td>\n    </tr>\n    <tr>\n      <th>25</th>\n      <td>-1.0</td>\n      <td>-1.0</td>\n      <td>-1.0</td>\n      <td>-1.0</td>\n      <td>-1.0</td>\n      <td>0.0</td>\n      <td>-1.0</td>\n      <td>0.0</td>\n      <td>1.0</td>\n      <td>-1.0</td>\n      <td>...</td>\n      <td>0.0</td>\n      <td>-1.0</td>\n      <td>0.0</td>\n      <td>-1.0</td>\n      <td>-1.0</td>\n      <td>NaN</td>\n      <td>-1.0</td>\n      <td>-1.0</td>\n      <td>-1.0</td>\n      <td>0.0</td>\n    </tr>\n    <tr>\n      <th>26</th>\n      <td>-1.0</td>\n      <td>-1.0</td>\n      <td>-1.0</td>\n      <td>-1.0</td>\n      <td>-1.0</td>\n      <td>0.0</td>\n      <td>-1.0</td>\n      <td>0.0</td>\n      <td>0.0</td>\n      <td>-1.0</td>\n      <td>...</td>\n      <td>-1.0</td>\n      <td>0.0</td>\n      <td>1.0</td>\n      <td>1.0</td>\n      <td>-1.0</td>\n      <td>1.0</td>\n      <td>NaN</td>\n      <td>-1.0</td>\n      <td>1.0</td>\n      <td>0.0</td>\n    </tr>\n    <tr>\n      <th>27</th>\n      <td>1.0</td>\n      <td>1.0</td>\n      <td>1.0</td>\n      <td>1.0</td>\n      <td>1.0</td>\n      <td>1.0</td>\n      <td>-1.0</td>\n      <td>1.0</td>\n      <td>0.0</td>\n      <td>1.0</td>\n      <td>...</td>\n      <td>1.0</td>\n      <td>1.0</td>\n      <td>1.0</td>\n      <td>1.0</td>\n      <td>1.0</td>\n      <td>1.0</td>\n      <td>1.0</td>\n      <td>NaN</td>\n      <td>1.0</td>\n      <td>1.0</td>\n    </tr>\n    <tr>\n      <th>28</th>\n      <td>0.0</td>\n      <td>-1.0</td>\n      <td>1.0</td>\n      <td>-1.0</td>\n      <td>0.0</td>\n      <td>0.0</td>\n      <td>-1.0</td>\n      <td>0.0</td>\n      <td>-1.0</td>\n      <td>-1.0</td>\n      <td>...</td>\n      <td>-1.0</td>\n      <td>-1.0</td>\n      <td>-1.0</td>\n      <td>-1.0</td>\n      <td>-1.0</td>\n      <td>1.0</td>\n      <td>-1.0</td>\n      <td>-1.0</td>\n      <td>NaN</td>\n      <td>-1.0</td>\n    </tr>\n    <tr>\n      <th>29</th>\n      <td>1.0</td>\n      <td>-1.0</td>\n      <td>-1.0</td>\n      <td>-1.0</td>\n      <td>-1.0</td>\n      <td>-1.0</td>\n      <td>-1.0</td>\n      <td>0.0</td>\n      <td>-1.0</td>\n      <td>-1.0</td>\n      <td>...</td>\n      <td>-1.0</td>\n      <td>0.0</td>\n      <td>-1.0</td>\n      <td>-1.0</td>\n      <td>-1.0</td>\n      <td>0.0</td>\n      <td>0.0</td>\n      <td>-1.0</td>\n      <td>1.0</td>\n      <td>NaN</td>\n    </tr>\n  </tbody>\n</table>\n<p>30 rows × 30 columns</p>\n</div>"
     },
     "metadata": {},
     "output_type": "display_data"
    }
   ],
   "source": [
    "data_comparison = matrix_comparison(responses)\n",
    "display(data_comparison)"
   ]
  },
  {
   "cell_type": "code",
   "execution_count": 44,
   "id": "05aa165f",
   "metadata": {
    "scrolled": true,
    "ExecuteTime": {
     "end_time": "2023-06-05T23:42:30.855009300Z",
     "start_time": "2023-06-05T23:42:30.758778900Z"
    }
   },
   "outputs": [
    {
     "name": "stdout",
     "output_type": "stream",
     "text": [
      "Cow order in matrix is:\n",
      "[7138, 6062, 8083, 7128, 6025, 7153, 4035, 6092, 4026, 6086, 6094, 7060, 7116, 6088, 7163, 5064, 6095, 7136, 7114, 4008, 7064, 6053, 5118, 6096, 7109, 6046, 6068, 5087, 7045, 6029]\n",
      "Basic array before mergesort:\n",
      "[[0], [1], [2], [3], [4], [5], [6], [7], [8], [9], [10], [11], [12], [13], [14], [15], [16], [17], [18], [19], [20], [21], [22], [23], [24], [25], [26], [27], [28], [29]]\n",
      "Basic array sorted after mergesort:\n",
      "[[21], [7], [20], [8], [5], [25], [4], [28], [29], [17], [26], [3], [22], [16], [0], [10], [14], [9], [18], [11], [2], [1], [23], [24], [19], [13], [15], [12], [27], [6]]\n",
      "Sorted cows in ascending order is:\n",
      "[[6053], [6092], [7064], [4026], [7153], [6046], [6025], [7045], [6029], [7136], [6068], [7128], [5118], [6095], [7138], [6094], [7163], [6086], [7114], [7060], [8083], [6062], [6096], [7109], [4008], [6088], [5064], [7116], [5087], [4035]]\n",
      "Number of comparisons done in merge sort:\n",
      "204\n"
     ]
    }
   ],
   "source": [
    "num_cows=len(cow_order)\n",
    "print(\"Cow order in matrix is:\")\n",
    "print(cow_order)\n",
    "\n",
    "lst_mg = []\n",
    "for i in range(num_cows):\n",
    "    inner_list = []\n",
    "    inner_list.append(i)\n",
    "    lst_mg.append(inner_list)\n",
    "\n",
    "print(\"Basic array before mergesort:\")    \n",
    "print(lst_mg)\n",
    "\n",
    "comp_mg=0\n",
    "lst_mg,comp_mg= mergeSort(lst_mg,comp_mg,data_comparison)\n",
    "lst_mg,comp_mg=mergeSort(lst_mg,comp_mg,data_comparison)\n",
    "print(\"Basic array sorted after mergesort:\")\n",
    "\n",
    "print(lst_mg)\n",
    "lst_mg_cows=[]\n",
    "while (len(lst_mg)>0):\n",
    "    aux_len=len(lst_mg[0])\n",
    "    aux_ties=[]\n",
    "    for i in range(aux_len):\n",
    "        aux_ties.append(cow_order[lst_mg[0][i]]) \n",
    "    lst_mg.pop(0)  \n",
    "    lst_mg_cows.append(aux_ties)\n",
    "print(\"Sorted cows in ascending order is:\")\n",
    "print(lst_mg_cows)\n",
    "\n",
    "print(\"Number of comparisons done in merge sort:\")\n",
    "print(comp_mg)\n"
   ]
  },
  {
   "cell_type": "code",
   "execution_count": 45,
   "outputs": [
    {
     "name": "stdout",
     "output_type": "stream",
     "text": [
      "    merge sorted  GS\n",
      "0           6053   3\n",
      "1           6092   2\n",
      "2           7064   2\n",
      "3           4026   2\n",
      "4           7153   2\n",
      "5           6046   3\n",
      "6           6025   2\n",
      "7           7045   2\n",
      "8           6029   2\n",
      "9           7136   2\n",
      "10          6068   2\n",
      "11          7128   3\n",
      "12          5118   2\n",
      "13          6095   3\n",
      "14          7138   2\n",
      "15          6094   2\n",
      "16          7163   2\n",
      "17          6086   2\n",
      "18          7114   2\n",
      "19          7060   3\n",
      "20          8083   3\n",
      "21          6062   2\n",
      "22          6096   3\n",
      "23          7109   2\n",
      "24          4008   2\n",
      "25          6088   3\n",
      "26          5064   2\n",
      "27          7116   2\n",
      "28          5087   4\n",
      "29          4035   3\n"
     ]
    }
   ],
   "source": [
    "#6095 not a 4\n",
    "#6029 not a 4\n",
    "#7128 not a 2\n",
    "mg_vs_GS = pd.DataFrame([item for sublist in lst_mg_cows for item in sublist], columns=['merge sorted'])\n",
    "N=mg_vs_GS.shape[0]\n",
    "aux=[]\n",
    "for i in range (N):\n",
    "    cow=mg_vs_GS.at[i,'merge sorted']\n",
    "    aux.append(list(df_3.loc[df_3['Cow']== cow,'GS'])[0])\n",
    "mg_vs_GS['GS'] = aux\n",
    "print(mg_vs_GS)"
   ],
   "metadata": {
    "collapsed": false,
    "ExecuteTime": {
     "end_time": "2023-06-05T23:42:30.908392700Z",
     "start_time": "2023-06-05T23:42:30.792515900Z"
    }
   }
  },
  {
   "cell_type": "code",
   "execution_count": 46,
   "outputs": [
    {
     "data": {
      "text/plain": "<Figure size 3000x1000 with 1 Axes>",
      "image/png": "[encoded data removed]"
     },
     "metadata": {},
     "output_type": "display_data"
    }
   ],
   "source": [
    "import matplotlib.pyplot as plt\n",
    "x=list(mg_vs_GS['merge sorted'])\n",
    "y=list(mg_vs_GS['GS'])\n",
    "string_cow = [str(item) for item in x]\n",
    "# Get unique y-axis values\n",
    "unique_values = np.unique(y)\n",
    "\n",
    "# Define the colors for each unique y-axis value\n",
    "colors = {'2': 'red', '3': 'blue', '4': 'green'}\n",
    "\n",
    "plt.figure(figsize=(30, 10))\n",
    "\n",
    "plt.bar(string_cow, y, color=[colors[str(val)] for val in y], width=0.6)\n",
    "\n",
    "plt.xlabel('MG rank', fontsize=20)\n",
    "plt.ylabel('GS values', fontsize=20)\n",
    "plt.title('MG rank vs GS values', fontsize=24)\n",
    "plt.xticks(fontsize=16)\n",
    "plt.yticks(fontsize=20)\n",
    "plt.show()\n"
   ],
   "metadata": {
    "collapsed": false,
    "ExecuteTime": {
     "end_time": "2023-06-05T23:42:31.548317Z",
     "start_time": "2023-06-05T23:42:30.823762500Z"
    }
   }
  },
  {
   "cell_type": "code",
   "execution_count": null,
   "outputs": [],
   "source": [],
   "metadata": {
    "collapsed": false
   }
  }
 ],
 "metadata": {
  "kernelspec": {
   "display_name": "Python 3 (ipykernel)",
   "language": "python",
   "name": "python3"
  },
  "language_info": {
   "codemirror_mode": {
    "name": "ipython",
    "version": 3
   },
   "file_extension": ".py",
   "mimetype": "text/x-python",
   "name": "python",
   "nbconvert_exporter": "python",
   "pygments_lexer": "ipython3",
   "version": "3.8.16"
  }
 },
 "nbformat": 4,
 "nbformat_minor": 5
}

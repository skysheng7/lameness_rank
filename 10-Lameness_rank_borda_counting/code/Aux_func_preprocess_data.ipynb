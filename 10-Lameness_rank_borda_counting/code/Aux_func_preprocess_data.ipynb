{
 "cells": [
  {
   "cell_type": "code",
   "execution_count": 12,
   "id": "f95a2298",
   "metadata": {
    "pycharm": {
     "is_executing": true
    }
   },
   "outputs": [],
   "source": [
    "import pandas as pd\n",
    "import numpy as np\n",
    "import math\n",
    "\n",
    "env = \"Sky\" # enter Sky or Varinia"
   ]
  },
  {
   "cell_type": "code",
   "execution_count": 13,
   "id": "dd5f73f2",
   "metadata": {},
   "outputs": [],
   "source": [
    "if env == \"Sky\":\n",
    "    data_path_1='../Expert_response/all_HIT_answer.csv'\n",
    "    data_path_2='../Expert_response/master_all_responses_May-14-2023_to_May-18-2023_Dan.csv'\n",
    "\n",
    "else:\n",
    "    data_path_1=r'C:\\Users\\varin\\Desktop\\UBC\\Lameness_project\\all_HIT_answer.csv'\n",
    "    data_path_2=r'C:\\Users\\varin\\Desktop\\UBC\\Lameness_project\\master_all_responses_Dan.csv'\n",
    "    \n",
    "df_1= pd.read_csv(data_path_1)\n",
    "df_2= pd.read_csv(data_path_2)"
   ]
  },
  {
   "cell_type": "code",
   "execution_count": 14,
   "id": "c64cc9f6",
   "metadata": {},
   "outputs": [],
   "source": [
    "def process_data(df_1, df_2):\n",
    "    # Remove all positive and negative attention checks, keep only 1 copy of the positive attention check\n",
    "    all_test_q = df_1[(df_1['question_type'] != \"neg_attention\") & (df_1['question_type'] != \"pos_attention_easy\")].copy()\n",
    "    pos_attention_q = df_1[df_1['question_type'] == \"pos_attention_easy\"].head(1).copy()\n",
    "\n",
    "    # Concatenate the dataframes and reset the index\n",
    "    all_q = pd.concat([all_test_q, pos_attention_q], ignore_index=True)\n",
    "    all_q.reset_index(drop=True, inplace=True)\n",
    "\n",
    "    # Select the desired columns and convert question_num to int\n",
    "    all_q2 = all_q[['cow_L', 'cow_R', 'question_num', 'HIT']].copy()\n",
    "    all_q2.loc[:, 'question_num'] = all_q2['question_num'].str[1:].astype(int)\n",
    "\n",
    "    # Select the columns for response dataframe\n",
    "    all_q_col = [f\"q{i}\" for i in range(1, 13)]\n",
    "    all_col = all_q_col.copy()\n",
    "    all_col.append('HIT')\n",
    "\n",
    "    # Get the response dataframe\n",
    "    response = df_2[all_col].copy()\n",
    "\n",
    "    return all_q2, response\n"
   ]
  },
  {
   "cell_type": "code",
   "execution_count": 15,
   "id": "df100644",
   "metadata": {},
   "outputs": [],
   "source": [
    "def reshape_and_remove_nan(df):\n",
    "    df_melted = df.melt(id_vars='HIT', \n",
    "                        value_vars=['q1', 'q2', 'q3', 'q4', 'q5', 'q6', 'q7', 'q8', 'q9', 'q10', 'q11', 'q12'], \n",
    "                        var_name='question_num', \n",
    "                        value_name='response')\n",
    "    df_melted['question_num'] = df_melted['question_num'].str[1:].astype(int)\n",
    "    df_melted = df_melted.dropna()\n",
    "    return df_melted\n"
   ]
  },
  {
   "cell_type": "code",
   "execution_count": 16,
   "id": "73b8a4a9",
   "metadata": {},
   "outputs": [],
   "source": [
    "def process_and_merge(df_1, df_2):\n",
    "    all_q2, response = process_data(df_1, df_2)\n",
    "    response_melted = reshape_and_remove_nan(response)\n",
    "    merged_df = all_q2.merge(response_melted, on=['HIT', 'question_num'], how='inner')\n",
    "    merged_df2 = merged_df[['cow_L', 'cow_R', 'response']]\n",
    "\n",
    "    return merged_df2\n"
   ]
  },
  {
   "cell_type": "code",
   "execution_count": 17,
   "id": "4426e5b5",
   "metadata": {},
   "outputs": [],
   "source": [
    "def create_winner_loser_degree_df(final_df):\n",
    "    winner = []\n",
    "    loser = []\n",
    "    degree = []\n",
    "\n",
    "    for _, row in final_df.iterrows():\n",
    "        if row['response'] <= 0:\n",
    "            winner.append(row['cow_L'])\n",
    "            loser.append(row['cow_R'])\n",
    "            degree.append(abs(row['response']))\n",
    "        else:\n",
    "            winner.append(row['cow_R'])\n",
    "            loser.append(row['cow_L'])\n",
    "            degree.append(abs(row['response']))\n",
    "\n",
    "    new_df = pd.DataFrame({\n",
    "        'winner': winner,\n",
    "        'loser': loser,\n",
    "        'degree': degree\n",
    "    })\n",
    "\n",
    "    return new_df\n"
   ]
  },
  {
   "cell_type": "code",
   "execution_count": 18,
   "id": "cc886565",
   "metadata": {},
   "outputs": [],
   "source": [
    "final_df = process_and_merge(df_1, df_2)\n",
    "winner_loser_df = create_winner_loser_degree_df(final_df)\n",
    "winner_loser_df.to_csv('../Expert_response/processed_result/winner_loser_Dan.csv', index=False)"
   ]
  },
  {
   "cell_type": "code",
   "execution_count": 25,
   "id": "8af7c665",
   "metadata": {},
   "outputs": [],
   "source": [
    "matrix = winner_loser_df.pivot(index='winner', columns='loser', values='degree').fillna(0)"
   ]
  },
  {
   "cell_type": "code",
   "execution_count": 4,
   "id": "9b41805f",
   "metadata": {},
   "outputs": [],
   "source": [
    "def direct_responses(df_1,df_2):\n",
    "    q_order=list(df_2.columns)\n",
    "    N=len(q_order)\n",
    "    M=df_2.shape[0]\n",
    "    matrix=[]\n",
    "    for j in range(M):\n",
    "        aux_df=df_2.iloc[[j]]\n",
    "        for i in range(N):           \n",
    "            cow_L=df_1[df_1['question_num']==q_order[i]].loc[df_1['HIT']==j,'cow_L'].to_numpy()\n",
    "            cow_R=df_1[df_1['question_num']==q_order[i]].loc[df_1['HIT']==j,'cow_R'].to_numpy()\n",
    "            response=aux_df[q_order[i]].to_numpy()\n",
    "            if(math.isnan(response[0])==False):\n",
    "                row=np.concatenate((cow_L,cow_R,response))\n",
    "                matrix.append(row.tolist())\n",
    "    new_df=pd.DataFrame(matrix)\n",
    "    new_df.columns=['cow_L', 'cow_R', 'response']     \n",
    "    return new_df\n"
   ]
  },
  {
   "cell_type": "code",
   "execution_count": 5,
   "id": "6d9d8469",
   "metadata": {
    "scrolled": true
   },
   "outputs": [
    {
     "data": {
      "text/html": [
       "<div>\n",
       "<style scoped>\n",
       "    .dataframe tbody tr th:only-of-type {\n",
       "        vertical-align: middle;\n",
       "    }\n",
       "\n",
       "    .dataframe tbody tr th {\n",
       "        vertical-align: top;\n",
       "    }\n",
       "\n",
       "    .dataframe thead th {\n",
       "        text-align: right;\n",
       "    }\n",
       "</style>\n",
       "<table border=\"1\" class=\"dataframe\">\n",
       "  <thead>\n",
       "    <tr style=\"text-align: right;\">\n",
       "      <th></th>\n",
       "      <th>cow_L</th>\n",
       "      <th>cow_R</th>\n",
       "      <th>response</th>\n",
       "    </tr>\n",
       "  </thead>\n",
       "  <tbody>\n",
       "    <tr>\n",
       "      <th>0</th>\n",
       "      <td>6029.0</td>\n",
       "      <td>7138.0</td>\n",
       "      <td>-1.0</td>\n",
       "    </tr>\n",
       "    <tr>\n",
       "      <th>1</th>\n",
       "      <td>5087.0</td>\n",
       "      <td>4008.0</td>\n",
       "      <td>-3.0</td>\n",
       "    </tr>\n",
       "    <tr>\n",
       "      <th>2</th>\n",
       "      <td>6092.0</td>\n",
       "      <td>7114.0</td>\n",
       "      <td>0.0</td>\n",
       "    </tr>\n",
       "    <tr>\n",
       "      <th>3</th>\n",
       "      <td>6053.0</td>\n",
       "      <td>6088.0</td>\n",
       "      <td>1.0</td>\n",
       "    </tr>\n",
       "    <tr>\n",
       "      <th>4</th>\n",
       "      <td>4035.0</td>\n",
       "      <td>7060.0</td>\n",
       "      <td>-1.0</td>\n",
       "    </tr>\n",
       "    <tr>\n",
       "      <th>...</th>\n",
       "      <td>...</td>\n",
       "      <td>...</td>\n",
       "      <td>...</td>\n",
       "    </tr>\n",
       "    <tr>\n",
       "      <th>537</th>\n",
       "      <td>5087.0</td>\n",
       "      <td>5064.0</td>\n",
       "      <td>-1.0</td>\n",
       "    </tr>\n",
       "    <tr>\n",
       "      <th>538</th>\n",
       "      <td>6046.0</td>\n",
       "      <td>4035.0</td>\n",
       "      <td>2.0</td>\n",
       "    </tr>\n",
       "    <tr>\n",
       "      <th>539</th>\n",
       "      <td>5087.0</td>\n",
       "      <td>6068.0</td>\n",
       "      <td>-2.0</td>\n",
       "    </tr>\n",
       "    <tr>\n",
       "      <th>540</th>\n",
       "      <td>7109.0</td>\n",
       "      <td>7153.0</td>\n",
       "      <td>-1.0</td>\n",
       "    </tr>\n",
       "    <tr>\n",
       "      <th>541</th>\n",
       "      <td>6068.0</td>\n",
       "      <td>5118.0</td>\n",
       "      <td>-1.0</td>\n",
       "    </tr>\n",
       "  </tbody>\n",
       "</table>\n",
       "<p>542 rows × 3 columns</p>\n",
       "</div>"
      ],
      "text/plain": [
       "      cow_L   cow_R  response\n",
       "0    6029.0  7138.0      -1.0\n",
       "1    5087.0  4008.0      -3.0\n",
       "2    6092.0  7114.0       0.0\n",
       "3    6053.0  6088.0       1.0\n",
       "4    4035.0  7060.0      -1.0\n",
       "..      ...     ...       ...\n",
       "537  5087.0  5064.0      -1.0\n",
       "538  6046.0  4035.0       2.0\n",
       "539  5087.0  6068.0      -2.0\n",
       "540  7109.0  7153.0      -1.0\n",
       "541  6068.0  5118.0      -1.0\n",
       "\n",
       "[542 rows x 3 columns]"
      ]
     },
     "metadata": {},
     "output_type": "display_data"
    }
   ],
   "source": [
    "#responses=direct_responses(df_1,df_2)\n",
    "#display(responses)"
   ]
  },
  {
   "cell_type": "code",
   "execution_count": 11,
   "id": "fce9bd56",
   "metadata": {},
   "outputs": [],
   "source": [
    "def simple_responses(df_1,df_2):\n",
    "    q_order=list(df_2.columns)\n",
    "    N=len(q_order)\n",
    "    M=df_2.shape[0]\n",
    "    matrix=[]\n",
    "    for j in range(M):\n",
    "        aux_df=df_2.iloc[[j]]\n",
    "        for i in range(N):\n",
    "            cow_L=df_1[df_1['question_num']==q_order[i]].loc[df_1['HIT']==j,'cow_L'].to_numpy()\n",
    "            cow_R=df_1[df_1['question_num']==q_order[i]].loc[df_1['HIT']==j,'cow_R'].to_numpy()\n",
    "            response=aux_df[q_order[i]].to_numpy()\n",
    "            if(math.isnan(response[0])==False):\n",
    "                if(response[0]==0):\n",
    "                    row=np.concatenate((cow_L,cow_R,[0]))\n",
    "                elif (response[0]<0):    \n",
    "                    row=np.concatenate((cow_L,cow_R,[-1]))\n",
    "                else:\n",
    "                    row=np.concatenate((cow_L,cow_R,[1])) \n",
    "                matrix.append(row.tolist())\n",
    "    new_df=pd.DataFrame(matrix)\n",
    "    new_df.columns=['cow_L', 'cow_R', 'response']     \n",
    "\n",
    "    return new_df"
   ]
  },
  {
   "cell_type": "code",
   "execution_count": 12,
   "id": "1f985700",
   "metadata": {},
   "outputs": [
    {
     "name": "stdout",
     "output_type": "stream",
     "text": [
      "     cow_L  cow_R  response\n",
      "0     6029   7138        -1\n",
      "1     5087   4008        -1\n",
      "2     6092   7114         0\n",
      "3     6053   6088         1\n",
      "4     4035   7060        -1\n",
      "..     ...    ...       ...\n",
      "537   5087   5064        -1\n",
      "538   6046   4035         1\n",
      "539   5087   6068        -1\n",
      "540   7109   7153        -1\n",
      "541   6068   5118        -1\n",
      "\n",
      "[542 rows x 3 columns]\n"
     ]
    }
   ],
   "source": [
    "#responses=simple_responses(df_1,df_2)\n",
    "#print(responses)"
   ]
  },
  {
   "cell_type": "code",
   "execution_count": 15,
   "id": "2aa326f5",
   "metadata": {},
   "outputs": [],
   "source": [
    "def winner_loser_degree(df_1,df_2):\n",
    "    direct_response=direct_responses(df_1,df_2)\n",
    "    M=direct_response.shape[0]\n",
    "    matrix=[]\n",
    "    for j in range(M):\n",
    "        aux_df=direct_response.iloc[[j]]\n",
    "        response=aux_df['response'].to_numpy()\n",
    "        cow_L=aux_df['cow_L'].to_numpy()\n",
    "        cow_R=aux_df['cow_R'].to_numpy()\n",
    "        if(response[0]==0):\n",
    "            row=np.concatenate((cow_L,cow_R,[0])) \n",
    "        elif(response[0]<0):\n",
    "            row=np.concatenate((cow_L,cow_R,[abs(int(response[0]))]))\n",
    "        else:\n",
    "            row=np.concatenate((cow_R,cow_L,[abs(int(response[0]))]))                       \n",
    "        matrix.append(row.tolist())\n",
    "    new_df=pd.DataFrame(matrix)\n",
    "    new_df.columns=['winner','loser','degree']     \n",
    "    return new_df  \n"
   ]
  },
  {
   "cell_type": "code",
   "execution_count": 16,
   "id": "890d0717",
   "metadata": {},
   "outputs": [
    {
     "name": "stdout",
     "output_type": "stream",
     "text": [
      "     winner   loser  degree\n",
      "0    6029.0  7138.0     1.0\n",
      "1    5087.0  4008.0     3.0\n",
      "2    6092.0  7114.0     0.0\n",
      "3    6088.0  6053.0     1.0\n",
      "4    4035.0  7060.0     1.0\n",
      "..      ...     ...     ...\n",
      "537  5087.0  5064.0     1.0\n",
      "538  4035.0  6046.0     2.0\n",
      "539  5087.0  6068.0     2.0\n",
      "540  7109.0  7153.0     1.0\n",
      "541  6068.0  5118.0     1.0\n",
      "\n",
      "[542 rows x 3 columns]\n"
     ]
    }
   ],
   "source": [
    "responses=winner_loser_degree(df_1,df_2)\n",
    "print(responses)"
   ]
  },
  {
   "cell_type": "code",
   "execution_count": null,
   "id": "f1bc560e",
   "metadata": {},
   "outputs": [],
   "source": []
  }
 ],
 "metadata": {
  "kernelspec": {
   "display_name": "Python 3 (ipykernel)",
   "language": "python",
   "name": "python3"
  },
  "language_info": {
   "codemirror_mode": {
    "name": "ipython",
    "version": 3
   },
   "file_extension": ".py",
   "mimetype": "text/x-python",
   "name": "python",
   "nbconvert_exporter": "python",
   "pygments_lexer": "ipython3",
   "version": "3.7.0"
  }
 },
 "nbformat": 4,
 "nbformat_minor": 5
}
